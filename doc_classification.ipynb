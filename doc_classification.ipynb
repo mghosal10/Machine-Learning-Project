{
 "cells": [
  {
   "cell_type": "code",
   "execution_count": 1,
   "metadata": {},
   "outputs": [],
   "source": [
    "# import libraries\n",
    "import nltk\n",
    "import pandas as pd\n",
    "import numpy as np\n",
    "import seaborn as sns\n",
    "from sklearn.model_selection import train_test_split\n",
    "import matplotlib.pyplot as plt\n",
    "import pickle\n",
    "from sklearn.metrics import confusion_matrix\n",
    "from sklearn.metrics import accuracy_score\n",
    "from nltk.classify.scikitlearn import SklearnClassifier\n",
    "from sklearn.ensemble import RandomForestClassifier"
   ]
  },
  {
   "cell_type": "code",
   "execution_count": 2,
   "metadata": {},
   "outputs": [],
   "source": [
    "# load data\n",
    "data = pd.read_csv(\"shuffled-full-set-hashed.csv\", names=['Category', 'Documents'])"
   ]
  },
  {
   "cell_type": "code",
   "execution_count": 3,
   "metadata": {},
   "outputs": [
    {
     "name": "stdout",
     "output_type": "stream",
     "text": [
      "BILL                       18959\n",
      "POLICY CHANGE              10616\n",
      "CANCELLATION NOTICE         9729\n",
      "BINDER                      8952\n",
      "DELETION OF INTEREST        4826\n",
      "REINSTATEMENT NOTICE        4367\n",
      "DECLARATION                  967\n",
      "CHANGE ENDORSEMENT           889\n",
      "RETURNED CHECK               749\n",
      "EXPIRATION NOTICE            734\n",
      "NON-RENEWAL NOTICE           624\n",
      "BILL BINDER                  289\n",
      "INTENT TO CANCEL NOTICE      229\n",
      "APPLICATION                  229\n",
      "Name: Category, dtype: int64\n"
     ]
    },
    {
     "data": {
      "image/png": "[encoded data removed]",
      "text/plain": [
       "<Figure size 432x288 with 1 Axes>"
      ]
     },
     "metadata": {
      "needs_background": "light"
     },
     "output_type": "display_data"
    }
   ],
   "source": [
    "# clean the data by removing all NaN values\n",
    "data.dropna(inplace=True)\n",
    "\n",
    "# data exploration\n",
    "pd.value_counts(data['Category']).plot.bar()\n",
    "unique_categories = data['Category'].value_counts()\n",
    "print(unique_categories)"
   ]
  },
  {
   "cell_type": "code",
   "execution_count": 4,
   "metadata": {},
   "outputs": [],
   "source": [
    "# create respective lists of categories and documents\n",
    "doc_type = data['Category'].values.tolist()\n",
    "doc = data['Documents'].values.tolist()\n",
    "\n",
    "# Split data into training and testing sets\n",
    "x_train, x_test, y_train, y_test = train_test_split(doc, doc_type, test_size=0.3)"
   ]
  },
  {
   "cell_type": "code",
   "execution_count": 5,
   "metadata": {},
   "outputs": [],
   "source": [
    "# tokenization - add all documents in a list\n",
    "documents = []\n",
    "for string in x_train:\n",
    "    documents += string.split(\" \")"
   ]
  },
  {
   "cell_type": "code",
   "execution_count": 6,
   "metadata": {},
   "outputs": [
    {
     "name": "stdout",
     "output_type": "stream",
     "text": [
      "<FreqDist with 794651 samples and 14591216 outcomes>\n"
     ]
    }
   ],
   "source": [
    "# calculate the frequency\n",
    "frequency = nltk.FreqDist(documents)\n",
    "print(frequency)"
   ]
  },
  {
   "cell_type": "code",
   "execution_count": 7,
   "metadata": {},
   "outputs": [],
   "source": [
    "# store the documents having highest frequency\n",
    "top_docs = frequency.most_common(250)\n",
    "features = [i[0] for i in top_docs]\n",
    "pickle.dump(features, open('feature.pkl', 'wb'))"
   ]
  },
  {
   "cell_type": "code",
   "execution_count": 8,
   "metadata": {},
   "outputs": [],
   "source": [
    "# build a dictionary to respresent how many frequent words are present in a particular row \n",
    "def get_feature_dict(words):\n",
    "    current_features = {}\n",
    "    words_set = set(words)\n",
    "    for w in features:\n",
    "        current_features[w] = w in words_set\n",
    "    return current_features"
   ]
  },
  {
   "cell_type": "code",
   "execution_count": 9,
   "metadata": {},
   "outputs": [],
   "source": [
    "# convert arrays of training and testing data\n",
    "training_set = []\n",
    "for i in range(len(x_train)):\n",
    "    training_set.append(((x_train[i]),y_train[i]))\n",
    "testing_set = []\n",
    "for i in range(len(x_test)):\n",
    "    testing_set.append(((x_test[i]),y_test[i]))"
   ]
  },
  {
   "cell_type": "code",
   "execution_count": 10,
   "metadata": {},
   "outputs": [],
   "source": [
    "# array of dictionary of training set \n",
    "training_data = [(get_feature_dict(string.split(\" \")), category) for string,category in training_set]"
   ]
  },
  {
   "cell_type": "code",
   "execution_count": 12,
   "metadata": {},
   "outputs": [],
   "source": [
    "# array of dictionary of testing set \n",
    "testing_data = [(get_feature_dict(string.split(\" \")), category) for string, category in testing_set]"
   ]
  },
  {
   "cell_type": "code",
   "execution_count": 13,
   "metadata": {},
   "outputs": [
    {
     "name": "stdout",
     "output_type": "stream",
     "text": [
      "Accuracy: 86.33097383097383\n"
     ]
    }
   ],
   "source": [
    "# Random Forest Classifier model\n",
    "rfc = RandomForestClassifier()\n",
    "rfc = RandomForestClassifier(n_estimators=90,min_samples_split=5,min_samples_leaf=2,max_features='auto',bootstrap=False)\n",
    "RFC_classifier = SklearnClassifier(rfc)\n",
    "RFC_classifier.train(training_data)\n",
    "print(\"Accuracy:\", (nltk.classify.accuracy(RFC_classifier, testing_data))*100)"
   ]
  },
  {
   "cell_type": "code",
   "execution_count": 14,
   "metadata": {},
   "outputs": [],
   "source": [
    "# save the classifier\n",
    "pickle.dump(RFC_classifier, open('model.pkl', 'wb'))"
   ]
  },
  {
   "cell_type": "code",
   "execution_count": 15,
   "metadata": {},
   "outputs": [],
   "source": [
    "# getting array of dictionaries of testing set\n",
    "dict_testX = [(get_feature_dict(string.split(\" \"))) for string, category in testing_set]"
   ]
  },
  {
   "cell_type": "code",
   "execution_count": 16,
   "metadata": {},
   "outputs": [],
   "source": [
    "# getting array of labels on testing set\n",
    "ytest = [category for string, category in testing_set]"
   ]
  },
  {
   "cell_type": "code",
   "execution_count": 17,
   "metadata": {},
   "outputs": [],
   "source": [
    "# predicted value from the classifier\n",
    "prediction = RFC_classifier.classify_many(dict_testX)"
   ]
  },
  {
   "cell_type": "code",
   "execution_count": 18,
   "metadata": {},
   "outputs": [
    {
     "name": "stdout",
     "output_type": "stream",
     "text": [
      "[[  22    8    0   29    0    0    0    0    0    0    0    6    0    0]\n",
      " [   0 5128   14  122  213    2    9    1   13    3    1  190    3    2]\n",
      " [   0   37   17   17    0    0    0    0    0    0    0   17    0    0]\n",
      " [   1   69    1 2336    6    3   14    1    1    0    1  188    3    1]\n",
      " [   0  218    0   18 2517    0    5   76    1    8    1   57   42    0]\n",
      " [   0    1    0    9    2  215    0    0    0    0    0   39    2    0]\n",
      " [   0   50    1  125    8    1   51   12    1    0    1   41    5    2]\n",
      " [   0    1    0    5  105    1    0 1345    0    0    0   22    5    0]\n",
      " [   0   39    0    0    8    0    2    1  156    0    2    6    7    0]\n",
      " [   0   10    0    2   22    0    0    2    0   32    1    2    4    0]\n",
      " [   0    1    0    0   22    0    0    1    0    0  139   11    4    0]\n",
      " [   1  133    4  164   19   32    3   12    8    0    2 2807   13    0]\n",
      " [   0   20    0    3   37    0    2    2    2    0    0   53 1156    0]\n",
      " [   0   11    0    5    2    0    2    0    0    0    0   30    1  178]]\n"
     ]
    }
   ],
   "source": [
    "matx = confusion_matrix(ytest, prediction)\n",
    "print(matx)"
   ]
  }
 ],
 "metadata": {
  "kernelspec": {
   "display_name": "Python 3",
   "language": "python",
   "name": "python3"
  },
  "language_info": {
   "codemirror_mode": {
    "name": "ipython",
    "version": 3
   },
   "file_extension": ".py",
   "mimetype": "text/x-python",
   "name": "python",
   "nbconvert_exporter": "python",
   "pygments_lexer": "ipython3",
   "version": "3.7.0"
  }
 },
 "nbformat": 4,
 "nbformat_minor": 4
}
